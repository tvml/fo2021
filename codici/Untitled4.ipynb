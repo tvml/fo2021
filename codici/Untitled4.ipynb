{
 "cells": [
  {
   "cell_type": "code",
   "execution_count": 1,
   "metadata": {},
   "outputs": [],
   "source": [
    "import numpy as np\n",
    "from ipywidgets import interact\n",
    "from bokeh.plotting import figure, show, output_notebook\n",
    "from bokeh.layouts import gridplot\n",
    "from bokeh.io import push_notebook"
   ]
  },
  {
   "cell_type": "code",
   "execution_count": 2,
   "metadata": {},
   "outputs": [],
   "source": [
    "def local_regression(x0, X, Y, tau):\n",
    "    # add bias term\n",
    "    x0 = np.r_[1, x0]\n",
    "    X = np.c_[np.ones(len(X)), X]\n",
    "    \n",
    "    # fit model: normal equations with kernel\n",
    "    xw = X.T * radial_kernel(x0, X, tau)\n",
    "    beta = np.linalg.pinv(xw @ X) @ xw @ Y\n",
    "    \n",
    "    # predict value\n",
    "    return x0 @ beta"
   ]
  },
  {
   "cell_type": "code",
   "execution_count": 3,
   "metadata": {},
   "outputs": [],
   "source": [
    "def radial_kernel(x0, X, tau):\n",
    "    return np.exp(np.sum((X - x0) ** 2, axis=1) / (-2 * tau * tau))"
   ]
  },
  {
   "cell_type": "code",
   "execution_count": 4,
   "metadata": {},
   "outputs": [],
   "source": [
    "n = 1000\n",
    "\n",
    "# generate dataset\n",
    "X = np.linspace(-3, 3, num=n)\n",
    "Y = np.log(np.abs(X ** 2 - 1) + .5)\n",
    "\n",
    "# jitter X\n",
    "X += np.random.normal(scale=.1, size=n)"
   ]
  },
  {
   "cell_type": "code",
   "execution_count": 5,
   "metadata": {},
   "outputs": [],
   "source": [
    "def plot_lwr(tau):\n",
    "    # prediction\n",
    "    domain = np.linspace(-3, 3, num=300)\n",
    "    prediction = [local_regression(x0, X, Y, tau) for x0 in domain]\n",
    "\n",
    "    plot = figure(plot_width=400, plot_height=400)\n",
    "    plot.title.text = 'tau=%g' % tau\n",
    "    plot.scatter(X, Y, alpha=.3)\n",
    "    plot.line(domain, prediction, line_width=2, color='red')\n",
    "    \n",
    "    return plot"
   ]
  },
  {
   "cell_type": "code",
   "execution_count": 6,
   "metadata": {},
   "outputs": [],
   "source": [
    "show(gridplot([\n",
    "    [plot_lwr(10.), plot_lwr(1.)],\n",
    "    [plot_lwr(0.1), plot_lwr(0.01)]\n",
    "]))"
   ]
  },
  {
   "cell_type": "code",
   "execution_count": 17,
   "metadata": {},
   "outputs": [],
   "source": [
    "def interactive_update(tau):\n",
    "    model.data_source.data['y'] = [local_regression(x0, X, Y, tau) for x0 in domain]\n",
    "    push_notebook()\n",
    "\n",
    "domain = np.linspace(-3, 3, num=100)\n",
    "prediction = [local_regression(x0, X, Y, 1.) for x0 in domain]\n",
    "\n",
    "plot = figure()\n",
    "plot.scatter(X, Y, alpha=.3)\n",
    "model = plot.line(domain, prediction, line_width=2, color='red')\n",
    "show(plot, notebook_handle=True)"
   ]
  },
  {
   "cell_type": "code",
   "execution_count": 18,
   "metadata": {},
   "outputs": [
    {
     "name": "stderr",
     "output_type": "stream",
     "text": [
      "/anaconda3/lib/python3.6/site-packages/bokeh/io/notebook.py:255: UserWarning: Cannot find a last shown plot to update. Call output_notebook() and show(..., notebook_handle=True) before push_notebook()\n",
      "  warn(\"Cannot find a last shown plot to update. Call output_notebook() and show(..., notebook_handle=True) before push_notebook()\")\n"
     ]
    },
    {
     "data": {
      "text/plain": [
       "<function __main__.interactive_update>"
      ]
     },
     "execution_count": 18,
     "metadata": {},
     "output_type": "execute_result"
    }
   ],
   "source": [
    "interact(interactive_update, tau=(0.01, 3., 0.01))"
   ]
  },
  {
   "cell_type": "code",
   "execution_count": null,
   "metadata": {},
   "outputs": [],
   "source": []
  }
 ],
 "metadata": {
  "kernelspec": {
   "display_name": "Python 3",
   "language": "python",
   "name": "python3"
  },
  "language_info": {
   "codemirror_mode": {
    "name": "ipython",
    "version": 3
   },
   "file_extension": ".py",
   "mimetype": "text/x-python",
   "name": "python",
   "nbconvert_exporter": "python",
   "pygments_lexer": "ipython3",
   "version": "3.6.8"
  }
 },
 "nbformat": 4,
 "nbformat_minor": 2
}
